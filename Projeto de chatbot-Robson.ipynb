{
 "cells": [
  {
   "cell_type": "markdown",
   "id": "ea6c700a",
   "metadata": {},
   "source": [
    "# CRIANDO CHAT BOT INTELIGENTE"
   ]
  },
  {
   "cell_type": "code",
   "execution_count": 5,
   "id": "a3e91632",
   "metadata": {},
   "outputs": [
    {
     "name": "stdout",
     "output_type": "stream",
     "text": [
      "✔ Download and installation successful\n",
      "You can now load the package via spacy.load('en_core_web_sm')\n"
     ]
    }
   ],
   "source": [
    "from chatterbot import ChatBot\n",
    "from chatterbot.trainers import ListTrainer\n",
    "\n",
    "#######################################\n",
    "# isso é para corrigir o bug com o spacy\n",
    "\n",
    "from spacy.cli import download\n",
    "\n",
    "download('en_core_web_sm')\n",
    "\n",
    "#######################################\n",
    "\n",
    "\n",
    "class ENGSM:\n",
    "    ISO_639_1 = 'en_core_web_sm'\n",
    "\n"
   ]
  },
  {
   "cell_type": "code",
   "execution_count": 6,
   "id": "59043bc9",
   "metadata": {},
   "outputs": [
    {
     "name": "stdout",
     "output_type": "stream",
     "text": [
      "List Trainer: [####################] 100%\n"
     ]
    }
   ],
   "source": [
    "chatbot = ChatBot('Robson', tagger_language = ENGSM)\n",
    "\n",
    "conversa = [\n",
    "    'Ola',\n",
    "    'Oi, tudo bem ?',\n",
    "    'Como você esta ?',\n",
    "    'Tudo certinho.',\n",
    "    'Ja treinou hoje ?',\n",
    "    'Hoje ja, foi bem pesado',\n",
    "    'Entendi'\n",
    "]\n",
    "\n",
    "trainer = ListTrainer(chatbot)\n",
    "trainer.train(conversa)"
   ]
  },
  {
   "cell_type": "code",
   "execution_count": null,
   "id": "5e2010eb",
   "metadata": {},
   "outputs": [
    {
     "name": "stdout",
     "output_type": "stream",
     "text": [
      "Robson responde: ola\n",
      "Oi, tudo bem ?\n",
      "Robson responde: como você esta ?\n",
      "Tudo certinho.\n",
      "Robson responde: que bom\n",
      "ola\n",
      "Robson responde: ja treinou hoje ?\n",
      "Hoje ja, foi bem pesado\n",
      "Robson responde: entendi\n",
      "Como você esta ?\n",
      "Robson responde: tudo certinho\n",
      "Ja treinou hoje ?\n",
      "Robson responde: hoje ja\n",
      "Entendi\n"
     ]
    }
   ],
   "source": [
    "while True:\n",
    "    mensagem = input('Robson responde: ')\n",
    "    if mensagem == 'parar':\n",
    "        break\n",
    "    resposta = chatbot.get_response(mensagem)\n",
    "    print(resposta)\n",
    "\n",
    "\n",
    "#chatbot.get_response('ola')"
   ]
  },
  {
   "cell_type": "code",
   "execution_count": null,
   "id": "840b1903",
   "metadata": {},
   "outputs": [],
   "source": [
    "# como reiniciar o banco de dados do chat\n",
    "\n",
    "chatbot.storage.drop()"
   ]
  }
 ],
 "metadata": {
  "kernelspec": {
   "display_name": "Python 3",
   "language": "python",
   "name": "python3"
  },
  "language_info": {
   "codemirror_mode": {
    "name": "ipython",
    "version": 3
   },
   "file_extension": ".py",
   "mimetype": "text/x-python",
   "name": "python",
   "nbconvert_exporter": "python",
   "pygments_lexer": "ipython3",
   "version": "3.6.13"
  }
 },
 "nbformat": 4,
 "nbformat_minor": 5
}
